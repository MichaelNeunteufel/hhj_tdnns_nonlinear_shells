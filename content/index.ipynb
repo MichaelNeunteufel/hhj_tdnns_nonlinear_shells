{
 "cells": [
  {
   "cell_type": "markdown",
   "id": "2f25f55f",
   "metadata": {},
   "source": [
    "# Hellan-Herrmann-Johnson (HHJ) and tangential-displacement-normal-normal-stress (TDNNS) methods for linear and nonlinear shells"
   ]
  },
  {
   "cell_type": "markdown",
   "id": "1f7260c8",
   "metadata": {},
   "source": [
    "## Paper examples \n",
    "The following benchmark examples are considered to generate the numerical results for the paper [Neunteufel, Schöberl. The Hellan-Herrmann-Johnson and TDNNS methods for linear and nonlinear shells].\n",
    "\n",
    "### Nonlinear Koiter and linear Kirchhoff-Love shells\n",
    "\n",
    "* [Cantilever subjected to end moment](cantilever_bending_moment_hhj.ipynb)\n",
    "* [Slit annular plate](slit_annular_plate_hhj.ipynb)\n",
    "* [Pinched cylinder](pinched_cylinder_hhj.ipynb)\n",
    "* [T-cantilever under shear force](tstruct_hhj.ipynb)\n",
    "* [Asymmetric hyperboloid with free ends](hyperboloid_linear_hhj.ipynb)\n",
    "* [Raasch's Hook](Raasch_hook_linear_hhj.ipynb)\n",
    "\n",
    "### Nonlinear Naghdi and linear Reissner-Mindlin shells\n",
    "\n",
    "* [Cantilever subjected to end moment](cantilever_bending_moment_tdnns.ipynb)\n",
    "* [Slit annular plate](slit_annular_plate_tdnns.ipynb)\n",
    "* [Pinched cylinder](pinched_cylinder_tdnns.ipynb)\n",
    "* [T-cantilever under shear force](tstruct_tdnns.ipynb)\n",
    "* [Asymmetric hyperboloid with free ends](hyperboloid_linear_tdnns.ipynb)\n",
    "* [Raasch's Hook](Raasch_hook_linear_tdnns.ipynb)"
   ]
  },
  {
   "cell_type": "markdown",
   "id": "6d247434",
   "metadata": {},
   "source": [
    "## Additional benchmarks \n",
    "We collect and present additional benchmark examples.\n",
    "### Nonlinear Koiter and linear Kirchhoff-Love shells\n",
    "\n",
    "* [Cantilever subjected to end moment](cantilever_shear_force_hhj.ipynb)\n",
    "* [Plate stiffener](plate_stiffener_hhj.ipynb)\n",
    "\n",
    "### Nonlinear Naghdi and linear Reissner-Mindlin shells\n",
    "\n",
    "* [Cantilever subjected to end moment](cantilever_shear_force_tdnns.ipynb)\n",
    "* [Plate stiffener](plate_stiffener_tdnns.ipynb)"
   ]
  },
  {
   "cell_type": "code",
   "execution_count": null,
   "id": "876acb13",
   "metadata": {},
   "outputs": [],
   "source": []
  }
 ],
 "metadata": {
  "kernelspec": {
   "display_name": "Python 3 (ipykernel)",
   "language": "python",
   "name": "python3"
  },
  "language_info": {
   "codemirror_mode": {
    "name": "ipython",
    "version": 3
   },
   "file_extension": ".py",
   "mimetype": "text/x-python",
   "name": "python",
   "nbconvert_exporter": "python",
   "pygments_lexer": "ipython3",
   "version": "3.11.5"
  }
 },
 "nbformat": 4,
 "nbformat_minor": 5
}
